{
 "cells": [
  {
   "cell_type": "markdown",
   "id": "e8343e5a",
   "metadata": {},
   "source": [
    "# Salary Estimation using KNN"
   ]
  },
  {
   "cell_type": "markdown",
   "id": "5c473300",
   "metadata": {},
   "source": [
    "### Importing required libraries"
   ]
  },
  {
   "cell_type": "code",
   "execution_count": 21,
   "id": "7d937319",
   "metadata": {},
   "outputs": [],
   "source": [
    "import pandas as pd\n",
    "import matplotlib.pyplot as plt \n",
    "import numpy as np"
   ]
  },
  {
   "cell_type": "markdown",
   "id": "9bba0096",
   "metadata": {},
   "source": [
    "### importing the dataset "
   ]
  },
  {
   "cell_type": "code",
   "execution_count": 22,
   "id": "7d6d7f31",
   "metadata": {},
   "outputs": [],
   "source": [
    "dataset = pd.read_csv(\"salary.csv\")"
   ]
  },
  {
   "cell_type": "code",
   "execution_count": 23,
   "id": "e6af3259",
   "metadata": {},
   "outputs": [
    {
     "data": {
      "text/html": [
       "<div>\n",
       "<style scoped>\n",
       "    .dataframe tbody tr th:only-of-type {\n",
       "        vertical-align: middle;\n",
       "    }\n",
       "\n",
       "    .dataframe tbody tr th {\n",
       "        vertical-align: top;\n",
       "    }\n",
       "\n",
       "    .dataframe thead th {\n",
       "        text-align: right;\n",
       "    }\n",
       "</style>\n",
       "<table border=\"1\" class=\"dataframe\">\n",
       "  <thead>\n",
       "    <tr style=\"text-align: right;\">\n",
       "      <th></th>\n",
       "      <th>age</th>\n",
       "      <th>education.num</th>\n",
       "      <th>capital.gain</th>\n",
       "      <th>hours.per.week</th>\n",
       "      <th>income</th>\n",
       "    </tr>\n",
       "  </thead>\n",
       "  <tbody>\n",
       "    <tr>\n",
       "      <th>0</th>\n",
       "      <td>90</td>\n",
       "      <td>9</td>\n",
       "      <td>0</td>\n",
       "      <td>40</td>\n",
       "      <td>&lt;=50K</td>\n",
       "    </tr>\n",
       "    <tr>\n",
       "      <th>1</th>\n",
       "      <td>82</td>\n",
       "      <td>9</td>\n",
       "      <td>0</td>\n",
       "      <td>18</td>\n",
       "      <td>&lt;=50K</td>\n",
       "    </tr>\n",
       "    <tr>\n",
       "      <th>2</th>\n",
       "      <td>66</td>\n",
       "      <td>10</td>\n",
       "      <td>0</td>\n",
       "      <td>40</td>\n",
       "      <td>&lt;=50K</td>\n",
       "    </tr>\n",
       "    <tr>\n",
       "      <th>3</th>\n",
       "      <td>54</td>\n",
       "      <td>4</td>\n",
       "      <td>0</td>\n",
       "      <td>40</td>\n",
       "      <td>&lt;=50K</td>\n",
       "    </tr>\n",
       "    <tr>\n",
       "      <th>4</th>\n",
       "      <td>41</td>\n",
       "      <td>10</td>\n",
       "      <td>0</td>\n",
       "      <td>40</td>\n",
       "      <td>&lt;=50K</td>\n",
       "    </tr>\n",
       "  </tbody>\n",
       "</table>\n",
       "</div>"
      ],
      "text/plain": [
       "   age  education.num  capital.gain  hours.per.week income\n",
       "0   90              9             0              40  <=50K\n",
       "1   82              9             0              18  <=50K\n",
       "2   66             10             0              40  <=50K\n",
       "3   54              4             0              40  <=50K\n",
       "4   41             10             0              40  <=50K"
      ]
     },
     "execution_count": 23,
     "metadata": {},
     "output_type": "execute_result"
    }
   ],
   "source": [
    "dataset.head()"
   ]
  },
  {
   "cell_type": "code",
   "execution_count": 24,
   "id": "faa29531",
   "metadata": {},
   "outputs": [
    {
     "data": {
      "text/plain": [
       "(32561, 5)"
      ]
     },
     "execution_count": 24,
     "metadata": {},
     "output_type": "execute_result"
    }
   ],
   "source": [
    "dataset.shape"
   ]
  },
  {
   "cell_type": "markdown",
   "id": "dc15a52e",
   "metadata": {},
   "source": [
    "### mapping income to binary"
   ]
  },
  {
   "cell_type": "code",
   "execution_count": 25,
   "id": "fd128ad3",
   "metadata": {},
   "outputs": [
    {
     "name": "stdout",
     "output_type": "stream",
     "text": [
      "<bound method NDFrame.head of        age  education.num  capital.gain  hours.per.week  income\n",
      "0       90              9             0              40       0\n",
      "1       82              9             0              18       0\n",
      "2       66             10             0              40       0\n",
      "3       54              4             0              40       0\n",
      "4       41             10             0              40       0\n",
      "...    ...            ...           ...             ...     ...\n",
      "32556   22             10             0              40       0\n",
      "32557   27             12             0              38       0\n",
      "32558   40              9             0              40       1\n",
      "32559   58              9             0              40       0\n",
      "32560   22              9             0              20       0\n",
      "\n",
      "[32561 rows x 5 columns]>\n"
     ]
    }
   ],
   "source": [
    "income_set = set(dataset['income'])\n",
    "dataset['income'] = dataset['income'].map({'<=50K': 0, '>50K': 1}).astype(int)\n",
    "print(dataset.head)"
   ]
  },
  {
   "cell_type": "markdown",
   "id": "495782f9",
   "metadata": {},
   "source": [
    "### splitting dependent and independant variable "
   ]
  },
  {
   "cell_type": "code",
   "execution_count": 26,
   "id": "4c0dec1a",
   "metadata": {},
   "outputs": [
    {
     "name": "stdout",
     "output_type": "stream",
     "text": [
      "       age  education.num  capital.gain  hours.per.week\n",
      "0       90              9             0              40\n",
      "1       82              9             0              18\n",
      "2       66             10             0              40\n",
      "3       54              4             0              40\n",
      "4       41             10             0              40\n",
      "...    ...            ...           ...             ...\n",
      "32556   22             10             0              40\n",
      "32557   27             12             0              38\n",
      "32558   40              9             0              40\n",
      "32559   58              9             0              40\n",
      "32560   22              9             0              20\n",
      "\n",
      "[32561 rows x 4 columns]\n"
     ]
    }
   ],
   "source": [
    "x = dataset.iloc[:,:-1]\n",
    "print(x)"
   ]
  },
  {
   "cell_type": "code",
   "execution_count": 27,
   "id": "5023ce27",
   "metadata": {},
   "outputs": [
    {
     "name": "stdout",
     "output_type": "stream",
     "text": [
      "0        0\n",
      "1        0\n",
      "2        0\n",
      "3        0\n",
      "4        0\n",
      "        ..\n",
      "32556    0\n",
      "32557    0\n",
      "32558    1\n",
      "32559    0\n",
      "32560    0\n",
      "Name: income, Length: 32561, dtype: int32\n"
     ]
    }
   ],
   "source": [
    "y = dataset.iloc[:,-1]\n",
    "print(y)"
   ]
  },
  {
   "cell_type": "markdown",
   "id": "bea435bd",
   "metadata": {},
   "source": [
    "### splitting up training and test data"
   ]
  },
  {
   "cell_type": "code",
   "execution_count": 28,
   "id": "b134fc77",
   "metadata": {},
   "outputs": [],
   "source": [
    "from sklearn.model_selection import train_test_split\n",
    "x_train,x_test,y_train,y_test = train_test_split(x,y,test_size=0.2,random_state=0)"
   ]
  },
  {
   "cell_type": "code",
   "execution_count": 29,
   "id": "622c5c89",
   "metadata": {},
   "outputs": [],
   "source": [
    "from sklearn.preprocessing import StandardScaler\n",
    "sc = StandardScaler()\n",
    "x_train = sc.fit_transform(x_train)\n",
    "x_test = sc.transform(x_test)"
   ]
  },
  {
   "cell_type": "code",
   "execution_count": 30,
   "id": "e8fbe134",
   "metadata": {},
   "outputs": [
    {
     "name": "stdout",
     "output_type": "stream",
     "text": [
      "[[ 0.17780667 -0.03649105 -0.14474897  0.85163208]\n",
      " [-0.99324468  1.13074461 -0.14474897 -1.2548683 ]\n",
      " [-0.99324468 -0.42556961 -0.14474897 -0.03957962]\n",
      " ...\n",
      " [-0.92005397 -0.81464816 -0.14474897  0.85163208]\n",
      " [ 0.39737879  1.51982317 -0.14474897 -0.03957962]\n",
      " [ 0.03142525 -0.42556961  0.83321509 -0.03957962]]\n"
     ]
    }
   ],
   "source": [
    "print(x_train)"
   ]
  },
  {
   "cell_type": "code",
   "execution_count": 31,
   "id": "bbddee67",
   "metadata": {},
   "outputs": [
    {
     "name": "stdout",
     "output_type": "stream",
     "text": [
      "[[ 1.2756673  -1.98188383 -0.14474897 -0.03957962]\n",
      " [-1.43238893 -0.42556961 -0.14474897 -1.2548683 ]\n",
      " [-1.1396261  -0.03649105 -0.14474897 -0.44467585]\n",
      " ...\n",
      " [-0.55410042  0.3525875  -0.14474897 -0.03957962]\n",
      " [ 0.17780667 -1.59280527 -0.14474897 -0.03957962]\n",
      " [-0.11495617  1.13074461 -0.14474897 -0.03957962]]\n"
     ]
    }
   ],
   "source": [
    "print(x_test)"
   ]
  },
  {
   "cell_type": "markdown",
   "id": "9113ac94",
   "metadata": {},
   "source": [
    "### finding out the best K_value"
   ]
  },
  {
   "cell_type": "code",
   "execution_count": 32,
   "id": "6e525748",
   "metadata": {},
   "outputs": [
    {
     "data": {
      "text/plain": [
       "Text(0, 0.5, 'errors')"
      ]
     },
     "execution_count": 32,
     "metadata": {},
     "output_type": "execute_result"
    },
    {
     "data": {
      "image/png": "[encoded data removed]",
      "text/plain": [
       "<Figure size 864x432 with 1 Axes>"
      ]
     },
     "metadata": {
      "needs_background": "light"
     },
     "output_type": "display_data"
    }
   ],
   "source": [
    "error =[]\n",
    "from sklearn.neighbors import KNeighborsClassifier\n",
    "\n",
    "for i in range(1, 40):\n",
    "    model = KNeighborsClassifier(n_neighbors = i)\n",
    "    model.fit(x_train,y_train)\n",
    "    pred = model.predict(x_test)\n",
    "    error.append(np.mean(pred != y_test))\n",
    "\n",
    "plt.figure(figsize=(12,6))\n",
    "plt.plot(range(1,40),error,color='green',linestyle='dashed',marker='o',markerfacecolor = 'red',markersize=10)\n",
    "plt.title('Error of K_values')\n",
    "plt.xlabel('k_values')\n",
    "plt.ylabel('errors')\n"
   ]
  },
  {
   "cell_type": "markdown",
   "id": "dce597d9",
   "metadata": {},
   "source": [
    "### model training"
   ]
  },
  {
   "cell_type": "code",
   "execution_count": 33,
   "id": "f63c7fed",
   "metadata": {},
   "outputs": [
    {
     "data": {
      "text/plain": [
       "KNeighborsClassifier(n_neighbors=16)"
      ]
     },
     "execution_count": 33,
     "metadata": {},
     "output_type": "execute_result"
    }
   ],
   "source": [
    "model = KNeighborsClassifier(n_neighbors = 16,metric = 'minkowski', p=2)\n",
    "model.fit(x_train,y_train)"
   ]
  },
  {
   "cell_type": "markdown",
   "id": "15b81217",
   "metadata": {},
   "source": [
    "### testing the model"
   ]
  },
  {
   "cell_type": "code",
   "execution_count": 34,
   "id": "04d97a98",
   "metadata": {},
   "outputs": [],
   "source": [
    "y_pred = model.predict(x_test) "
   ]
  },
  {
   "cell_type": "markdown",
   "id": "1e964c1f",
   "metadata": {},
   "source": [
    "### confusion matrix and accuracy"
   ]
  },
  {
   "cell_type": "code",
   "execution_count": 35,
   "id": "e5dc94b4",
   "metadata": {},
   "outputs": [
    {
     "name": "stdout",
     "output_type": "stream",
     "text": [
      "Confusion Matrix\n",
      "[[4708  258]\n",
      " [ 942  605]]\n",
      "ACCURACY:81.57531091662828\n"
     ]
    }
   ],
   "source": [
    "from sklearn.metrics import confusion_matrix,accuracy_score\n",
    "cm = confusion_matrix(y_test,y_pred)\n",
    "print(\"Confusion Matrix\")\n",
    "print(cm)\n",
    "print(\"ACCURACY:{0}\".format(accuracy_score(y_test,y_pred)*100))"
   ]
  },
  {
   "cell_type": "markdown",
   "id": "347e7bcc",
   "metadata": {},
   "source": [
    "### Prediction for New data"
   ]
  },
  {
   "cell_type": "code",
   "execution_count": 37,
   "id": "e3e4d498",
   "metadata": {},
   "outputs": [
    {
     "name": "stdout",
     "output_type": "stream",
     "text": [
      "Enter the age:40\n",
      "Enter the Education_no:10\n",
      "Enter the Captial Gain:0\n",
      "Enter the Working Hours per Week:40\n",
      "result: [0]\n",
      "Emplyee might not Got above 50K\n"
     ]
    }
   ],
   "source": [
    "age = int(input('Enter the age:'))\n",
    "edu_no = int(input('Enter the Education_no:'))\n",
    "cap_g = int(input('Enter the Captial Gain:'))\n",
    "hpw = int(input('Enter the Working Hours per Week:'))\n",
    "newemp = [[age,edu_no,cap_g,hpw]]\n",
    "\n",
    "result = model.predict(sc.transform(newemp))\n",
    "print('result:',result)\n",
    "\n",
    "if result == 1:\n",
    "    print('Employee might Got above 50K')\n",
    "else:\n",
    "    print(\"Employee might not Got above 50K\")"
   ]
  }
 ],
 "metadata": {
  "kernelspec": {
   "display_name": "Python 3",
   "language": "python",
   "name": "python3"
  },
  "language_info": {
   "codemirror_mode": {
    "name": "ipython",
    "version": 3
   },
   "file_extension": ".py",
   "mimetype": "text/x-python",
   "name": "python",
   "nbconvert_exporter": "python",
   "pygments_lexer": "ipython3",
   "version": "3.8.8"
  }
 },
 "nbformat": 4,
 "nbformat_minor": 5
}
